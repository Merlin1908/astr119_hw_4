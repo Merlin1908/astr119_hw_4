{
 "cells": [
  {
   "cell_type": "code",
   "execution_count": 9,
   "metadata": {},
   "outputs": [
    {
     "name": "stderr",
     "output_type": "stream",
     "text": [
      "/Library/Frameworks/Python.framework/Versions/3.6/lib/python3.6/site-packages/matplotlib/font_manager.py:229: UserWarning: Matplotlib is building the font cache using fc-list. This may take a moment.\n",
      "  'Matplotlib is building the font cache using fc-list. '\n"
     ]
    }
   ],
   "source": [
    "%matplotlib inline\n",
    "import numpy as np\n",
    "import matplotlib.pyplot as plt"
   ]
  },
  {
   "cell_type": "markdown",
   "metadata": {},
   "source": [
    "## integrate e^-2*x*cos(10*x)"
   ]
  },
  {
   "cell_type": "code",
   "execution_count": 45,
   "metadata": {},
   "outputs": [],
   "source": [
    "def func(x):\n",
    "    return np.exp(-2*x)*np.cos(10*x)\n"
   ]
  },
  {
   "cell_type": "code",
   "execution_count": 46,
   "metadata": {},
   "outputs": [],
   "source": [
    "def func_integral(x):\n",
    "    return -1/52 * np.exp(-2*x) * (np.cos(10*x)-5*np.sin(10*x))"
   ]
  },
  {
   "cell_type": "markdown",
   "metadata": {},
   "source": [
    "### trapdzoid integration"
   ]
  },
  {
   "cell_type": "code",
   "execution_count": 60,
   "metadata": {},
   "outputs": [],
   "source": [
    "def trapezoid_core(f, x, h):\n",
    "    return 0.5*h*(f(x+h)+f(x))"
   ]
  },
  {
   "cell_type": "code",
   "execution_count": 61,
   "metadata": {},
   "outputs": [],
   "source": [
    "def trapezoid_method(f,a,b,N):\n",
    "    \"\"\"\n",
    "    f : function\n",
    "    a : lower bound\n",
    "    b : upper bound\n",
    "    N. : number of interbals for integration\"\"\"\n",
    "    \n",
    "    x = np.linspace(a,b,N)\n",
    "    h = x[1]-[0]\n",
    "    \n",
    "    Fint = 0.0\n",
    "    \n",
    "    for i in range(0,N):\n",
    "        Fint += trapezoid_core(f,x[i],h)\n",
    "        \n",
    "    print(\"Number of iterations:\",i)\n",
    "    return Fint"
   ]
  },
  {
   "cell_type": "markdown",
   "metadata": {},
   "source": [
    "### Simpson's Method"
   ]
  },
  {
   "cell_type": "code",
   "execution_count": 69,
   "metadata": {},
   "outputs": [],
   "source": [
    "def simpson_core(f,x,h):\n",
    "    return h*(f(x)+4*f(x+h)+f(x+2*h))/3."
   ]
  },
  {
   "cell_type": "code",
   "execution_count": 70,
   "metadata": {},
   "outputs": [],
   "source": [
    "def simpsons_method(f,a,b,N):\n",
    "    x = np.linspace(a,b,N)\n",
    "    h = x[1]-x[0]\n",
    "    \n",
    "    Fint = 0.0\n",
    "    \n",
    "    for i in range(0,len(x)-2,2):\n",
    "        Fint += simpson_core(f,x[i],h)\n",
    "        \n",
    "    if((N%2)==0):\n",
    "        Fint += simpson_core(f,x[-2],0.5*h)\n",
    "    print(\"Number of iterations:\",i)\n",
    "    return Fint"
   ]
  },
  {
   "cell_type": "markdown",
   "metadata": {},
   "source": [
    "### Romberg Method"
   ]
  },
  {
   "cell_type": "code",
   "execution_count": 71,
   "metadata": {},
   "outputs": [],
   "source": [
    "def romberg_core(f,a,b,i):\n",
    "    h = b-a\n",
    "    dh = h/2.**(i)\n",
    "    K = h/2.**(i+1)\n",
    "    M = 0.0\n",
    "    for j in range(2**i):\n",
    "        M+=f(a + 0.5*dh+j*dh)\n",
    "        \n",
    "    return K*M"
   ]
  },
  {
   "cell_type": "code",
   "execution_count": 72,
   "metadata": {},
   "outputs": [],
   "source": [
    "def romberg_integration(f,a,b,tol):\n",
    "    i=0\n",
    "    imax=1000\n",
    "    delta=100.0*np.fabs(tol)\n",
    "    I = np.zeros(imax,dtype=float)\n",
    "    I[0] = 0.5*(b-a)*(f(a)+f(b))\n",
    "    i += 1\n",
    "    while(delta>tol):\n",
    "        \n",
    "        I[i] = 0.5*I[i-1]+romberg_core(f,a,b,i)\n",
    "        delta = np.fabs( (I[i]-I[i-1])/I[i] )\n",
    "        \n",
    "        print(i,I[i],I[i-1],delta)\n",
    "        \n",
    "        if(delta>tol):\n",
    "            i+=1\n",
    "            \n",
    "            if(i>imax):\n",
    "                print(\"Max iterations reached.\")\n",
    "                raise StopIteration('Stopping iterations after',i)\n",
    "                \n",
    "    return I[i]"
   ]
  },
  {
   "cell_type": "markdown",
   "metadata": {},
   "source": [
    "# Answer"
   ]
  },
  {
   "cell_type": "code",
   "execution_count": null,
   "metadata": {},
   "outputs": [
    {
     "name": "stdout",
     "output_type": "stream",
     "text": [
      "0.014335187065361379\n",
      "Trapezoid\n",
      "Number of iterations: 9\n",
      "[0.01192946]\n",
      "Simpson's Method\n",
      "Number of iterations: 6\n",
      "0.013670507431562885\n",
      "Romberg\n",
      "1 0.11946766131901145 0.4432220084783303 2.70997476291769\n",
      "2 0.060811946494693916 0.11946766131901145 0.9645426302780075\n",
      "3 0.03649466375563152 0.060811946494693916 0.6663243399607971\n",
      "4 0.02516694989944875 0.03649466375563152 0.4501027697611815\n",
      "5 0.019690357518066744 0.02516694989944875 0.2781357512862322\n",
      "6 0.016997673593145187 0.019690357518066744 0.15841485072448158\n",
      "7 0.01566266057717022 0.016997673593145187 0.08523539212238773\n",
      "8 0.014997981690630852 0.01566266057717022 0.04431788891665263\n",
      "9 0.014666348864544716 0.014997981690630852 0.022611819011604438\n",
      "10 0.014500709087790522 0.014666348864544716 0.01142287427127696\n",
      "11 0.014417933357360262 0.014500709087790522 0.005741164727190489\n",
      "12 0.014376556531561564 0.014417933357360262 0.0028780762422393118\n",
      "13 0.014355870878511954 0.014376556531561564 0.0014409194137133758\n",
      "14 0.014345528741949078 0.014355870878511954 0.0007209310126459954\n",
      "15 0.014340357846158152 0.014345528741949078 0.00036058345589413867\n",
      "16 0.014337772441385462 0.014340357846158152 0.00018032123073928662\n",
      "17 0.014336479749779715 0.014337772441385462 9.016799300166088e-05\n",
      "18 0.014335833406671748 0.014336479749779715 4.508584116683188e-05\n",
      "19 0.014335510235792517 0.014335833406671748 2.2543381708452184e-05\n",
      "20 0.01433534865051926 0.014335510235792517 1.1271806301784464e-05\n",
      "21 0.014335267857928918 0.01433534865051926 5.63593168558439e-06\n",
      "22 0.014335227461638966 0.014335267857928918 2.8179734196827587e-06\n"
     ]
    }
   ],
   "source": [
    "Answer = func_integral(1)-func_integral(0)\n",
    "print(Answer)\n",
    "print(\"Trapezoid\")\n",
    "print(trapezoid_method(func,0,1,10))\n",
    "print(\"Simpson's Method\")\n",
    "print(simpsons_method(func,0,1,10))\n",
    "print(\"Romberg\")\n",
    "tolerance=1.0e-6\n",
    "RI = romberg_integration(func,0,1,tolerance)\n",
    "print(RI, (RI-Answer)/Answer, tolerance)"
   ]
  }
 ],
 "metadata": {
  "kernelspec": {
   "display_name": "Python 3",
   "language": "python",
   "name": "python3"
  },
  "language_info": {
   "codemirror_mode": {
    "name": "ipython",
    "version": 3
   },
   "file_extension": ".py",
   "mimetype": "text/x-python",
   "name": "python",
   "nbconvert_exporter": "python",
   "pygments_lexer": "ipython3",
   "version": "3.6.5"
  }
 },
 "nbformat": 4,
 "nbformat_minor": 2
}
